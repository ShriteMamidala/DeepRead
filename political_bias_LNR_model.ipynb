{
 "cells": [
  {
   "cell_type": "code",
   "execution_count": 1,
   "id": "fcc69c6a",
   "metadata": {},
   "outputs": [
    {
     "name": "stdout",
     "output_type": "stream",
     "text": [
      "📦 Found 10000 JSON files.\n",
      "No need to delete files. Dataset is within the 10,000 file limit.\n"
     ]
    }
   ],
   "source": [
    "import os\n",
    "import random\n",
    "\n",
    "json_dir = r\"C:\\Users\\shrit\\Desktop\\Ml_Projects\\DeepRead\\DeepRead\\data\\Article-Bias-Prediction\\data\\jsons\"\n",
    "max_files = 10_000\n",
    "\n",
    "# Get all .json file paths\n",
    "json_files = [f for f in os.listdir(json_dir) if f.endswith('.json')]\n",
    "total_files = len(json_files)\n",
    "\n",
    "print(f\"📦 Found {total_files} JSON files.\")\n",
    "\n",
    "# Only delete if over the limit\n",
    "if total_files > max_files:\n",
    "    files_to_delete = random.sample(json_files, total_files - max_files)\n",
    "\n",
    "    for filename in files_to_delete:\n",
    "        file_path = os.path.join(json_dir, filename)\n",
    "        os.remove(file_path)\n",
    "\n",
    "    print(f\"Deleted {len(files_to_delete)} files to limit the dataset to {max_files} files.\")\n",
    "else:\n",
    "    print(\"No need to delete files. Dataset is within the 10,000 file limit.\")\n"
   ]
  },
  {
   "cell_type": "code",
   "execution_count": 2,
   "id": "95fbcda5",
   "metadata": {},
   "outputs": [
    {
     "name": "stdout",
     "output_type": "stream",
     "text": [
      "✅ Saved 10000 cleaned articles with numeric labels to:\n",
      "C:\\Users\\shrit\\Desktop\\Ml_Projects\\DeepRead\\DeepRead\\article_bias_clean_numeric.csv\n",
      "label\n",
      "0    3436\n",
      "1    2928\n",
      "2    3636\n",
      "Name: count, dtype: int64\n"
     ]
    }
   ],
   "source": [
    "import json\n",
    "import pandas as pd\n",
    "import os\n",
    "\n",
    "json_dir = r\"C:\\Users\\shrit\\Desktop\\Ml_Projects\\DeepRead\\DeepRead\\data\\Article-Bias-Prediction\\data\\jsons\"\n",
    "\n",
    "# Map textual bias to numeric labels\n",
    "bias_map = {\n",
    "    \"left\": 0,\n",
    "    \"center\": 1,\n",
    "    \"right\": 2\n",
    "}\n",
    "\n",
    "data = []\n",
    "\n",
    "# Loop through all JSON files\n",
    "for filename in os.listdir(json_dir):\n",
    "    if filename.endswith(\".json\"):\n",
    "        with open(os.path.join(json_dir, filename), \"r\", encoding=\"utf-8\") as f:\n",
    "            article = json.load(f)\n",
    "            content = article.get(\"content\", \"\").strip()\n",
    "            bias_text = article.get(\"bias_text\", \"\").lower().strip()\n",
    "\n",
    "            if content and bias_text in bias_map:\n",
    "                data.append({\n",
    "                    \"text\": content,\n",
    "                    \"label\": bias_map[bias_text]\n",
    "                })\n",
    "\n",
    "# Create and save DataFrame\n",
    "df = pd.DataFrame(data)\n",
    "output_path = r\"C:\\Users\\shrit\\Desktop\\Ml_Projects\\DeepRead\\DeepRead\\article_bias_clean_numeric.csv\"\n",
    "df.to_csv(output_path, index=False)\n",
    "\n",
    "print(f\"✅ Saved {len(df)} cleaned articles with numeric labels to:\\n{output_path}\")\n",
    "print(df['label'].value_counts().sort_index())\n"
   ]
  },
  {
   "cell_type": "code",
   "execution_count": 3,
   "id": "0eed0a49",
   "metadata": {},
   "outputs": [
    {
     "name": "stdout",
     "output_type": "stream",
     "text": [
      "                                                text  label\n",
      "0  Besides his most recent trip to Quetta , Mr. R...      0\n",
      "1  Wall Street Journal economics expert Stephen M...      2\n",
      "2  The left believes Sanders ’ s chances have imp...      1\n",
      "Index(['text', 'label'], dtype='object')\n"
     ]
    }
   ],
   "source": [
    "print(df.head(3))\n",
    "print(df.columns)"
   ]
  },
  {
   "cell_type": "code",
   "execution_count": 4,
   "id": "32423463",
   "metadata": {},
   "outputs": [
    {
     "name": "stdout",
     "output_type": "stream",
     "text": [
      "Before cleaning:\n",
      "<class 'pandas.core.frame.DataFrame'>\n",
      "RangeIndex: 10000 entries, 0 to 9999\n",
      "Data columns (total 2 columns):\n",
      " #   Column  Non-Null Count  Dtype \n",
      "---  ------  --------------  ----- \n",
      " 0   text    10000 non-null  object\n",
      " 1   label   10000 non-null  int64 \n",
      "dtypes: int64(1), object(1)\n",
      "memory usage: 156.4+ KB\n",
      "None\n",
      "label\n",
      "2    3636\n",
      "0    3436\n",
      "1    2928\n",
      "Name: count, dtype: int64\n",
      "\n",
      "After cleaning:\n",
      "<class 'pandas.core.frame.DataFrame'>\n",
      "RangeIndex: 10000 entries, 0 to 9999\n",
      "Data columns (total 2 columns):\n",
      " #   Column  Non-Null Count  Dtype \n",
      "---  ------  --------------  ----- \n",
      " 0   text    10000 non-null  object\n",
      " 1   label   10000 non-null  int64 \n",
      "dtypes: int64(1), object(1)\n",
      "memory usage: 156.4+ KB\n",
      "None\n",
      "label\n",
      "2    3636\n",
      "0    3436\n",
      "1    2928\n",
      "Name: count, dtype: int64\n"
     ]
    }
   ],
   "source": [
    "import pandas as pd\n",
    "import re\n",
    "\n",
    "# Load your CSV\n",
    "data = pd.read_csv(r\"C:\\Users\\shrit\\Desktop\\Ml_Projects\\DeepRead\\DeepRead\\data\\Article-Bias-Prediction\\political_LNR_final_data.csv\")\n",
    "\n",
    "# Show basic info\n",
    "print(\"Before cleaning:\")\n",
    "print(data.info())\n",
    "print(data[\"label\"].value_counts())\n",
    "\n",
    "# Drop rows with missing text or labels\n",
    "data = data.dropna(subset=[\"text\", \"label\"])\n",
    "\n",
    "# Drop duplicates\n",
    "data = data.drop_duplicates(subset=[\"text\"])\n",
    "\n",
    "# Ensure labels are in {0, 1, 2}\n",
    "data = data[data[\"label\"].isin([0, 1, 2])]\n",
    "\n",
    "# Optional: Light text cleaning\n",
    "def clean_text(text):\n",
    "    text = str(text)\n",
    "    text = re.sub(r\"\\s+\", \" \", text)  # Normalize whitespace\n",
    "    text = re.sub(r\"http\\S+\", \"\", text)  # Remove URLs\n",
    "    text = re.sub(r\"[^A-Za-z0-9.,!?\\\"\\'\\s]\", \"\", text)  # Keep common chars\n",
    "    return text.strip()\n",
    "\n",
    "data[\"text\"] = data[\"text\"].apply(clean_text)\n",
    "\n",
    "# Remove very short texts (less than 5 words)\n",
    "data[\"text_length\"] = data[\"text\"].apply(lambda x: len(x.split()))\n",
    "data = data[data[\"text_length\"] >= 5]\n",
    "\n",
    "# Drop the text_length column (not needed for training)\n",
    "data = data.drop(columns=[\"text_length\"])\n",
    "\n",
    "# Reset index\n",
    "data = data.reset_index(drop=True)\n",
    "\n",
    "# Final status\n",
    "print(\"\\nAfter cleaning:\")\n",
    "print(data.info())\n",
    "print(data[\"label\"].value_counts())\n",
    "\n",
    "# Optional: Save cleaned version\n",
    "data.to_csv(r\"C:\\Users\\shrit\\Desktop\\Ml_Projects\\DeepRead\\DeepRead\\article_bias_clean_ready.csv\", index=False)\n"
   ]
  },
  {
   "cell_type": "code",
   "execution_count": 2,
   "id": "c0683e22",
   "metadata": {},
   "outputs": [
    {
     "data": {
      "application/vnd.jupyter.widget-view+json": {
       "model_id": "cf06f74159a34fa58f0db717997db6ac",
       "version_major": 2,
       "version_minor": 0
      },
      "text/plain": [
       "Map:   0%|          | 0/8000 [00:00<?, ? examples/s]"
      ]
     },
     "metadata": {},
     "output_type": "display_data"
    },
    {
     "data": {
      "application/vnd.jupyter.widget-view+json": {
       "model_id": "6862db7906dc4964bc8cc3dc29d506f3",
       "version_major": 2,
       "version_minor": 0
      },
      "text/plain": [
       "Map:   0%|          | 0/2000 [00:00<?, ? examples/s]"
      ]
     },
     "metadata": {},
     "output_type": "display_data"
    },
    {
     "name": "stderr",
     "output_type": "stream",
     "text": [
      "Some weights of DistilBertForSequenceClassification were not initialized from the model checkpoint at distilbert-base-uncased and are newly initialized: ['classifier.bias', 'classifier.weight', 'pre_classifier.bias', 'pre_classifier.weight']\n",
      "You should probably TRAIN this model on a down-stream task to be able to use it for predictions and inference.\n",
      "c:\\Users\\shrit\\AppData\\Local\\Programs\\Python\\Python312\\Lib\\site-packages\\transformers\\training_args.py:1594: FutureWarning: `evaluation_strategy` is deprecated and will be removed in version 4.46 of 🤗 Transformers. Use `eval_strategy` instead\n",
      "  warnings.warn(\n",
      "C:\\Users\\shrit\\AppData\\Local\\Temp\\ipykernel_19072\\212647645.py:53: FutureWarning: `tokenizer` is deprecated and will be removed in version 5.0.0 for `Trainer.__init__`. Use `processing_class` instead.\n",
      "  trainer = Trainer(\n"
     ]
    },
    {
     "data": {
      "text/html": [
       "\n",
       "    <div>\n",
       "      \n",
       "      <progress value='2500' max='2500' style='width:300px; height:20px; vertical-align: middle;'></progress>\n",
       "      [2500/2500 15:30, Epoch 5/5]\n",
       "    </div>\n",
       "    <table border=\"1\" class=\"dataframe\">\n",
       "  <thead>\n",
       " <tr style=\"text-align: left;\">\n",
       "      <th>Epoch</th>\n",
       "      <th>Training Loss</th>\n",
       "      <th>Validation Loss</th>\n",
       "      <th>Accuracy</th>\n",
       "    </tr>\n",
       "  </thead>\n",
       "  <tbody>\n",
       "    <tr>\n",
       "      <td>1</td>\n",
       "      <td>0.900700</td>\n",
       "      <td>0.833056</td>\n",
       "      <td>0.627000</td>\n",
       "    </tr>\n",
       "    <tr>\n",
       "      <td>2</td>\n",
       "      <td>0.741500</td>\n",
       "      <td>0.734979</td>\n",
       "      <td>0.688000</td>\n",
       "    </tr>\n",
       "    <tr>\n",
       "      <td>3</td>\n",
       "      <td>0.516600</td>\n",
       "      <td>0.707573</td>\n",
       "      <td>0.713000</td>\n",
       "    </tr>\n",
       "    <tr>\n",
       "      <td>4</td>\n",
       "      <td>0.568500</td>\n",
       "      <td>0.722623</td>\n",
       "      <td>0.705500</td>\n",
       "    </tr>\n",
       "    <tr>\n",
       "      <td>5</td>\n",
       "      <td>0.474200</td>\n",
       "      <td>0.708337</td>\n",
       "      <td>0.717000</td>\n",
       "    </tr>\n",
       "  </tbody>\n",
       "</table><p>"
      ],
      "text/plain": [
       "<IPython.core.display.HTML object>"
      ]
     },
     "metadata": {},
     "output_type": "display_data"
    },
    {
     "data": {
      "text/html": [
       "\n",
       "    <div>\n",
       "      \n",
       "      <progress value='125' max='125' style='width:300px; height:20px; vertical-align: middle;'></progress>\n",
       "      [125/125 00:12]\n",
       "    </div>\n",
       "    "
      ],
      "text/plain": [
       "<IPython.core.display.HTML object>"
      ]
     },
     "metadata": {},
     "output_type": "display_data"
    },
    {
     "name": "stdout",
     "output_type": "stream",
     "text": [
      "Evaluation Results: {'eval_loss': 0.7075727581977844, 'eval_accuracy': 0.713, 'eval_runtime': 13.0853, 'eval_samples_per_second': 152.843, 'eval_steps_per_second': 9.553, 'epoch': 5.0}\n"
     ]
    }
   ],
   "source": [
    "import pandas as pd\n",
    "from datasets import Dataset\n",
    "from transformers import DistilBertTokenizerFast, DistilBertForSequenceClassification, Trainer, TrainingArguments\n",
    "from sklearn.metrics import accuracy_score\n",
    "\n",
    "data = pd.read_csv(r\"C:\\Users\\shrit\\Desktop\\Ml_Projects\\DeepRead\\DeepRead\\data\\Article-Bias-Prediction\\political_bias_LNR_data.csv\")  \n",
    "\n",
    "\n",
    "dataset = Dataset.from_pandas(data)\n",
    "\n",
    "\n",
    "split_dataset = dataset.train_test_split(test_size=0.2)\n",
    "\n",
    "# tokenizer\n",
    "tokenizer = DistilBertTokenizerFast.from_pretrained(\"distilbert-base-uncased\")\n",
    "\n",
    "#  tokenization\n",
    "def tokenize_function(examples):\n",
    "    return tokenizer(examples[\"text\"], truncation=True, padding=\"max_length\", max_length=512)\n",
    "\n",
    "# Apply the tokenization across the dataset\n",
    "tokenized_datasets = split_dataset.map(tokenize_function, batched=True)\n",
    "\n",
    "# Load pre-trained  model for multi-class classification\n",
    "model = DistilBertForSequenceClassification.from_pretrained(\"distilbert-base-uncased\", num_labels=3)\n",
    "\n",
    "# evaluation\n",
    "def compute_metrics(eval_pred):\n",
    "    logits, labels = eval_pred\n",
    "    predictions = logits.argmax(axis=-1)\n",
    "    return {\"accuracy\": accuracy_score(labels, predictions)}\n",
    "\n",
    "# arguments\n",
    "from transformers import TrainingArguments\n",
    "\n",
    "training_args = TrainingArguments(\n",
    "    output_dir=\"./results_bias_binary\",\n",
    "    evaluation_strategy=\"epoch\",\n",
    "    save_strategy=\"epoch\",\n",
    "    logging_strategy=\"steps\",     \n",
    "    logging_steps=10,                \n",
    "    report_to=\"none\",  \n",
    "    learning_rate=1e-5,\n",
    "    per_device_train_batch_size=16,\n",
    "    per_device_eval_batch_size=16,\n",
    "    num_train_epochs=5,\n",
    "    weight_decay=0.01,\n",
    "    load_best_model_at_end=True\n",
    ")\n",
    "\n",
    "\n",
    "# trainer\n",
    "trainer = Trainer(\n",
    "    model=model,\n",
    "    args=training_args,\n",
    "    train_dataset=tokenized_datasets[\"train\"],\n",
    "    eval_dataset=tokenized_datasets[\"test\"],\n",
    "    tokenizer=tokenizer,\n",
    "    compute_metrics=compute_metrics,\n",
    ")\n",
    "\n",
    "# Fine-tune the model\n",
    "trainer.train()\n",
    "\n",
    "# Evaluate the model\n",
    "results = trainer.evaluate()\n",
    "print(\"Evaluation Results:\", results)"
   ]
  },
  {
   "cell_type": "code",
   "execution_count": null,
   "id": "433d0aef",
   "metadata": {},
   "outputs": [
    {
     "data": {
      "text/plain": [
       "('./my_political_bias_LNR_tokenizer\\\\tokenizer_config.json',\n",
       " './my_political_bias_LNR_tokenizer\\\\special_tokens_map.json',\n",
       " './my_political_bias_LNR_tokenizer\\\\vocab.txt',\n",
       " './my_political_bias_LNR_tokenizer\\\\added_tokens.json',\n",
       " './my_political_bias_LNR_tokenizer\\\\tokenizer.json')"
      ]
     },
     "execution_count": 9,
     "metadata": {},
     "output_type": "execute_result"
    }
   ],
   "source": [
    "model.save_pretrained(\"./political_bias_LNR_model\")\n",
    "tokenizer.save_pretrained(\"./political_bias_LNR_tokenizer\")"
   ]
  },
  {
   "cell_type": "code",
   "execution_count": null,
   "id": "700767e9",
   "metadata": {},
   "outputs": [],
   "source": []
  }
 ],
 "metadata": {
  "kernelspec": {
   "display_name": "Python 3",
   "language": "python",
   "name": "python3"
  },
  "language_info": {
   "codemirror_mode": {
    "name": "ipython",
    "version": 3
   },
   "file_extension": ".py",
   "mimetype": "text/x-python",
   "name": "python",
   "nbconvert_exporter": "python",
   "pygments_lexer": "ipython3",
   "version": "3.12.3"
  }
 },
 "nbformat": 4,
 "nbformat_minor": 5
}
